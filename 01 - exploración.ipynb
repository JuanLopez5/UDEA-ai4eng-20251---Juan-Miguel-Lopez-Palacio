{
 "cells": [
  {
   "cell_type": "code",
   "execution_count": null,
   "id": "23b13c1b",
   "metadata": {
    "vscode": {
     "languageId": "plaintext"
    }
   },
   "outputs": [],
   "source": [
    "import pandas as pd\n",
    "\n",
    "df = pd.read_csv('train.csv')\n",
    "df.info #informacion de la tabla\n",
    "\n",
    "dep = df[df['ESTU_PRGM_DEPARTAMENTO']=='ANTIOQUIA'] #Filtración por departamento\n",
    "dep\n"
   ]
  }
 ],
 "metadata": {
  "language_info": {
   "name": "python"
  }
 },
 "nbformat": 4,
 "nbformat_minor": 5
}
